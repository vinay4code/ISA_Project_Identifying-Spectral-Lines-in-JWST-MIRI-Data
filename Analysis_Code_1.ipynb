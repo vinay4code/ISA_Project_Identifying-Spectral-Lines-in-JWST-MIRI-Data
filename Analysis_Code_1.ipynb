{
 "cells": [
  {
   "cell_type": "code",
   "execution_count": 1,
   "id": "fe6dbb02",
   "metadata": {},
   "outputs": [
    {
     "name": "stdout",
     "output_type": "stream",
     "text": [
      "Defaulting to user installation because normal site-packages is not writeable\n",
      "Requirement already satisfied: astropy in c:\\users\\vinay\\appdata\\roaming\\python\\python312\\site-packages (7.0.0)\n",
      "Requirement already satisfied: numpy>=1.23.2 in c:\\users\\vinay\\appdata\\roaming\\python\\python312\\site-packages (from astropy) (2.1.3)\n",
      "Requirement already satisfied: pyerfa>=2.0.1.1 in c:\\users\\vinay\\appdata\\roaming\\python\\python312\\site-packages (from astropy) (2.0.1.5)\n",
      "Requirement already satisfied: astropy-iers-data>=0.2024.10.28.0.34.7 in c:\\users\\vinay\\appdata\\roaming\\python\\python312\\site-packages (from astropy) (0.2025.1.13.0.34.51)\n",
      "Requirement already satisfied: PyYAML>=6.0.0 in c:\\users\\vinay\\appdata\\roaming\\python\\python312\\site-packages (from astropy) (6.0.2)\n",
      "Requirement already satisfied: packaging>=22.0.0 in c:\\users\\vinay\\appdata\\roaming\\python\\python312\\site-packages (from astropy) (24.2)\n"
     ]
    }
   ],
   "source": [
    "!pip install astropy"
   ]
  },
  {
   "cell_type": "code",
   "execution_count": 2,
   "id": "23f7d08a",
   "metadata": {},
   "outputs": [
    {
     "name": "stdout",
     "output_type": "stream",
     "text": [
      "Pixel scale: 0.1300 arcsec x 0.1300 arcsec\n"
     ]
    }
   ],
   "source": [
    "from astropy.io import fits\n",
    "\n",
    "# Open your FITS file \n",
    "hdul = fits.open('jw01328-c1006_t014_miri_ch1-short_s3d.fits')  \n",
    "\n",
    "# The spectral cube will usually be in extension 1 or SCI\n",
    "header = hdul[1].header  # Adjust index if needed\n",
    "\n",
    "# Read the pixel scale in arcseconds\n",
    "cdelt1 = abs(header['CDELT1']) * 3600  # degrees to arcsec\n",
    "cdelt2 = abs(header['CDELT2']) * 3600\n",
    "\n",
    "print(f\"Pixel scale: {cdelt1:.4f} arcsec x {cdelt2:.4f} arcsec\")\n",
    "\n",
    "hdul.close()\n"
   ]
  },
  {
   "cell_type": "code",
   "execution_count": 4,
   "id": "54577a28",
   "metadata": {},
   "outputs": [
    {
     "name": "stdout",
     "output_type": "stream",
     "text": [
      "Pixel scale: 44.89 pc / arcsec\n"
     ]
    }
   ],
   "source": [
    "from astropy.cosmology import Planck18 as cosmo\n",
    "import astropy.units as u\n",
    "\n",
    "# Redshift of NGC 7469\n",
    "z = 0.0164\n",
    "\n",
    "# Angular scale in kpc/arcsec\n",
    "scale = cosmo.arcsec_per_kpc_proper(z)  # arcsec per kpc\n",
    "scale_pc = (1 / scale).to(u.pc / u.arcsec)\n",
    "\n",
    "# Pixel scale in arcsec (from header)\n",
    "pixel_arcsec = cdelt1  # assuming square pixels\n",
    "\n",
    "# Convert to pc per pixel\n",
    "pixel_pc = pixel_arcsec * scale_pc\n",
    "print(f\"Pixel scale: {pixel_pc:.2f}\")\n"
   ]
  }
 ],
 "metadata": {
  "kernelspec": {
   "display_name": "Python 3 (ipykernel)",
   "language": "python",
   "name": "python3"
  },
  "language_info": {
   "codemirror_mode": {
    "name": "ipython",
    "version": 3
   },
   "file_extension": ".py",
   "mimetype": "text/x-python",
   "name": "python",
   "nbconvert_exporter": "python",
   "pygments_lexer": "ipython3",
   "version": "3.11.7"
  }
 },
 "nbformat": 4,
 "nbformat_minor": 5
}
